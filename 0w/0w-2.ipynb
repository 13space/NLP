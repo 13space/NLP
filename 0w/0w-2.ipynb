{
 "cells": [
  {
   "cell_type": "code",
   "execution_count": 1,
   "metadata": {
    "collapsed": true
   },
   "outputs": [],
   "source": [
    "import jieba\n",
    "from collections import Counter"
   ]
  },
  {
   "cell_type": "code",
   "execution_count": 2,
   "metadata": {
    "collapsed": true
   },
   "outputs": [],
   "source": [
    "s = open('/tensorflow/happiness.txt').read().rstrip()"
   ]
  },
  {
   "cell_type": "code",
   "execution_count": 3,
   "metadata": {
    "collapsed": false
   },
   "outputs": [
    {
     "name": "stderr",
     "output_type": "stream",
     "text": [
      "Building prefix dict from the default dictionary ...\n",
      "Loading model from cache /tmp/jieba.cache\n",
      "Loading model cost 0.332 seconds.\n",
      "Prefix dict has been built succesfully.\n"
     ]
    },
    {
     "data": {
      "text/plain": [
       "[u'\\u5e78\\u798f',\n",
       " u'\\u4e4b\\u8def',\n",
       " u'\\u5e78\\u798f\\u4e4b\\u8def',\n",
       " u'\\u7b2c\\u4e00',\n",
       " u'\\u4e00\\u7ae0',\n",
       " u'\\u7b2c\\u4e00\\u7ae0',\n",
       " u'\\u4ec0\\u4e48',\n",
       " u'\\u4f7f\\u4eba',\n",
       " u'\\u4e0d\\u5e78',\n",
       " u'\\u52a8\\u7269']"
      ]
     },
     "execution_count": 3,
     "metadata": {},
     "output_type": "execute_result"
    }
   ],
   "source": [
    "wordlist=[]\n",
    "\n",
    "for line in open('/tensorflow/happiness.txt').readlines(): ## 一次读取每行 \n",
    "    words = jieba.cut_for_search(line)\n",
    "    for w in words:\n",
    "        if w not in (u'[ \\t\\r\\n\\u2000-\\u206f\\u3000-\\u303f\\uff00-\\uffef]'): ##去除符号\n",
    "            wordlist.append(w)\n",
    "wordlist[:10]"
   ]
  },
  {
   "cell_type": "code",
   "execution_count": 4,
   "metadata": {
    "collapsed": false
   },
   "outputs": [
    {
     "data": {
      "text/plain": [
       "[(u'\\u7684', 22848),\n",
       " (u'\\uff0c', 19364),\n",
       " (u'\\u3002', 9494),\n",
       " (u'\\u662f', 4123),\n",
       " (u'\\u5728', 3538),\n",
       " (u'\\u4ed6', 2522),\n",
       " (u'\\u4e86', 2288),\n",
       " (u'\\u4eba', 2089),\n",
       " (u'\\u4ed6\\u4eec', 1811),\n",
       " (u'\\u548c', 1746)]"
      ]
     },
     "execution_count": 4,
     "metadata": {},
     "output_type": "execute_result"
    }
   ],
   "source": [
    "Counter(wordlist).most_common(10)"
   ]
  },
  {
   "cell_type": "code",
   "execution_count": null,
   "metadata": {
    "collapsed": true
   },
   "outputs": [],
   "source": []
  }
 ],
 "metadata": {
  "kernelspec": {
   "display_name": "Python 2",
   "language": "python",
   "name": "python2"
  },
  "language_info": {
   "codemirror_mode": {
    "name": "ipython",
    "version": 2
   },
   "file_extension": ".py",
   "mimetype": "text/x-python",
   "name": "python",
   "nbconvert_exporter": "python",
   "pygments_lexer": "ipython2",
   "version": "2.7.6"
  }
 },
 "nbformat": 4,
 "nbformat_minor": 2
}
