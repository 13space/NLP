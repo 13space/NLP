{
 "cells": [
  {
   "cell_type": "markdown",
   "metadata": {},
   "source": [
    "## Exercise 1: A Good First Program"
   ]
  },
  {
   "cell_type": "code",
   "execution_count": 3,
   "metadata": {
    "collapsed": false
   },
   "outputs": [
    {
     "name": "stdout",
     "output_type": "stream",
     "text": [
      "你好世界!\n",
      "Hello Again\n",
      "I like typing this.\n",
      "This is fun.\n",
      "Yay! Printing.\n",
      "I'd much rather you 'not'.\n",
      "I \"said\" do not touch this.\n"
     ]
    }
   ],
   "source": [
    "print (\"你好世界!\")\n",
    "print (\"Hello Again\")\n",
    "print (\"I like typing this.\")\n",
    "print (\"This is fun.\")\n",
    "print ('Yay! Printing.')\n",
    "print (\"I'd much rather you 'not'.\")\n",
    "print ('I \"said\" do not touch this.')\n",
    "\n",
    "# python3 使用 print（）要加括号"
   ]
  },
  {
   "cell_type": "markdown",
   "metadata": {},
   "source": [
    "## Exercise 2: Comments and Pound Characters"
   ]
  },
  {
   "cell_type": "code",
   "execution_count": 5,
   "metadata": {
    "collapsed": false
   },
   "outputs": [
    {
     "name": "stdout",
     "output_type": "stream",
     "text": [
      "I could have code like this.\n",
      "This will run.\n"
     ]
    }
   ],
   "source": [
    "# A comment, this is so you can read your program later.\n",
    "# Anything after the # is ignored by python.\n",
    "\n",
    "print (\"I could have code like this.\") # and the comment after is ignored\n",
    "\n",
    "# You can also use a comment to \"disable\" or comment out a piece of code:\n",
    "# print \"This won't run.\"\n",
    "\n",
    "print (\"This will run.\")"
   ]
  },
  {
   "cell_type": "markdown",
   "metadata": {},
   "source": [
    "## Exercise 3: Numbers and Math"
   ]
  },
  {
   "cell_type": "code",
   "execution_count": 10,
   "metadata": {
    "collapsed": false
   },
   "outputs": [
    {
     "name": "stdout",
     "output_type": "stream",
     "text": [
      "I will now count my chickens:\n",
      "Hens 30.0\n",
      "Roosters 97\n",
      "Now I will count the eggs:\n",
      "6.75\n",
      "Is it true that 3 + 2 < 5 - 7?\n",
      "False\n",
      "What is 3 + 2? 5\n",
      "What is 5 - 7? -2\n",
      "Oh, that's why it's False.\n",
      "How about some more.\n",
      "Is it greater? True\n",
      "Is it greater or equal? True\n",
      "Is it less or equal? False\n"
     ]
    }
   ],
   "source": [
    "print (\"I will now count my chickens:\")\n",
    "\n",
    "print (\"Hens\", 25 + 30 / 6)\n",
    "print (\"Roosters\", 100 - 25 * 3 % 4)\n",
    "\n",
    "print (\"Now I will count the eggs:\")\n",
    "\n",
    "print (3 + 2 + 1 - 5 + 4 % 2 - 1 / 4 + 6)\n",
    "\n",
    "print (\"Is it true that 3 + 2 < 5 - 7?\")\n",
    "\n",
    "print (3 + 2 < 5 - 7)\n",
    "\n",
    "print (\"What is 3 + 2?\", 3 + 2)\n",
    "print (\"What is 5 - 7?\", 5 - 7)\n",
    "\n",
    "print (\"Oh, that's why it's False.\")\n",
    "\n",
    "print (\"How about some more.\")\n",
    "\n",
    "print (\"Is it greater?\", 5 > -2)\n",
    "print (\"Is it greater or equal?\", 5 >= -2)\n",
    "print (\"Is it less or equal?\", 5 <= -2)"
   ]
  },
  {
   "cell_type": "markdown",
   "metadata": {},
   "source": [
    "## Exercise 4: Variables And Names"
   ]
  },
  {
   "cell_type": "code",
   "execution_count": 11,
   "metadata": {
    "collapsed": false
   },
   "outputs": [
    {
     "name": "stdout",
     "output_type": "stream",
     "text": [
      "There are 100 cars available.\n",
      "There are only 30 drivers available.\n",
      "There will be 70 empty cars today.\n",
      "We can transport 120.0 people today.\n",
      "We have 90 to carpool today.\n",
      "We need to put about 3.0 in each car.\n"
     ]
    }
   ],
   "source": [
    "cars = 100\n",
    "space_in_a_car = 4.0\n",
    "drivers = 30\n",
    "passengers = 90\n",
    "cars_not_driven = cars - drivers\n",
    "cars_driven = drivers\n",
    "carpool_capacity = cars_driven * space_in_a_car\n",
    "average_passengers_per_car = passengers / cars_driven\n",
    "\n",
    "print (\"There are\", cars, \"cars available.\")\n",
    "\n",
    "print (\"There are only\", drivers, \"drivers available.\")\n",
    "\n",
    "print (\"There will be\", cars_not_driven, \"empty cars today.\")\n",
    "\n",
    "print (\"We can transport\", carpool_capacity, \"people today.\")\n",
    "\n",
    "print (\"We have\", passengers, \"to carpool today.\")\n",
    "\n",
    "print (\"We need to put about\", \n",
    "average_passengers_per_car, \"in each car.\")"
   ]
  },
  {
   "cell_type": "markdown",
   "metadata": {},
   "source": [
    "## Exercise 5: More Variables and Printing"
   ]
  },
  {
   "cell_type": "code",
   "execution_count": 36,
   "metadata": {
    "collapsed": false
   },
   "outputs": [
    {
     "name": "stdout",
     "output_type": "stream",
     "text": [
      "Let's talk about Zed A. Shaw.\n",
      "He's 74 inches tall.\n",
      "He's 180 pounds heavy.\n",
      "Actually that's not too heavy.\n",
      "He's got Blue eyes and Brown hair.\n",
      "His teeth are usually White depending on the coffee.\n",
      "If I add 35, 74, and 180 I get 289.\n"
     ]
    }
   ],
   "source": [
    "my_name = 'Zed A. Shaw'\n",
    "my_age = 35 # not a lie\n",
    "my_height = 74 # inches\n",
    "my_weight = 180 # lbs\n",
    "my_eyes = 'Blue'\n",
    "my_teeth = 'White'\n",
    "my_hair = 'Brown'\n",
    "\n",
    "print (\"Let's talk about %s.\" % my_name)\n",
    "print (\"He's %d inches tall.\" % my_height)\n",
    "print (\"He's %d pounds heavy.\" % my_weight)\n",
    "print (\"Actually that's not too heavy.\")\n",
    "print (\"He's got %s eyes and %s hair.\" % (my_eyes, my_hair))\n",
    "print (\"His teeth are usually %s depending on the coffee.\" % my_teeth)\n",
    "\n",
    "# this line is tricky, try to get it exactly right\n",
    "print (\"If I add %d, %d, and %d I get %d.\" % (\n",
    "    my_age, my_height, my_weight, my_age + my_height + my_weight))"
   ]
  },
  {
   "cell_type": "markdown",
   "metadata": {},
   "source": [
    "## Exercise 6: Strings and Text"
   ]
  },
  {
   "cell_type": "code",
   "execution_count": 44,
   "metadata": {
    "collapsed": false
   },
   "outputs": [
    {
     "name": "stdout",
     "output_type": "stream",
     "text": [
      "There are 10 types of people.\n",
      "Those who know binary and those who don't.\n",
      "I said: 'There are 10 types of people.'.\n",
      "I also said: 'Those who know binary and those who don't.'.\n",
      "Isn't that joke so funny?! False\n",
      "This is the left side of...a string with a right side.\n"
     ]
    }
   ],
   "source": [
    "x = \"There are %d types of people.\" % 10\n",
    "binary = \"binary\"\n",
    "do_not = \"don't\"\n",
    "y = \"Those who know %s and those who %s.\" % (binary, do_not)\n",
    "\n",
    "print (x)\n",
    "print (y)\n",
    "\n",
    "print (\"I said: %r.\" % x)\n",
    "print (\"I also said: '%s'.\" % y)\n",
    "\n",
    "hilarious = False\n",
    "joke_evaluation = (\"Isn't that joke so funny?! %r\")\n",
    "\n",
    "print (joke_evaluation % hilarious)\n",
    "\n",
    "w = (\"This is the left side of...\")\n",
    "e = (\"a string with a right side.\")\n",
    "\n",
    "print (w + e)"
   ]
  },
  {
   "cell_type": "markdown",
   "metadata": {},
   "source": [
    "## Exercise 7: More Printing"
   ]
  },
  {
   "cell_type": "code",
   "execution_count": 2,
   "metadata": {
    "collapsed": false
   },
   "outputs": [
    {
     "name": "stdout",
     "output_type": "stream",
     "text": [
      "Mary had a little lamb.\n",
      "Its fleece was white as snow.\n",
      "And everywhere that Mary went.\n",
      "..........\n",
      "Cheese\n",
      "Burger\n"
     ]
    }
   ],
   "source": [
    "print (\"Mary had a little lamb.\")\n",
    "print (\"Its fleece was white as %s.\" % 'snow')\n",
    "print (\"And everywhere that Mary went.\")\n",
    "print (\".\" * 10)  # what'd that do?\n",
    "\n",
    "end1 = \"C\"\n",
    "end2 = \"h\"\n",
    "end3 = \"e\"\n",
    "end4 = \"e\"\n",
    "end5 = \"s\"\n",
    "end6 = \"e\"\n",
    "end7 = \"B\"\n",
    "end8 = \"u\"\n",
    "end9 = \"r\"\n",
    "end10 = \"g\"\n",
    "end11 = \"e\"\n",
    "end12 = \"r\"\n",
    "\n",
    "# watch that comma at the end.  try removing it to see what happens\n",
    "print (end1 + end2 + end3 + end4 + end5 + end6,)\n",
    "print (end7 + end8 + end9 + end10 + end11 + end12)"
   ]
  },
  {
   "cell_type": "markdown",
   "metadata": {},
   "source": [
    "## Exercise 8: Printing, Printing"
   ]
  },
  {
   "cell_type": "code",
   "execution_count": 4,
   "metadata": {
    "collapsed": false
   },
   "outputs": [
    {
     "name": "stdout",
     "output_type": "stream",
     "text": [
      "1 2 3 4\n",
      "'one' 'two' 'three' 'four'\n",
      "True False False True\n",
      "'%r %r %r %r' '%r %r %r %r' '%r %r %r %r' '%r %r %r %r'\n",
      "'I had this thing.' 'That you could type up right.' \"But it didn't sing.\" 'So I said goodnight.'\n"
     ]
    }
   ],
   "source": [
    "formatter = \"%r %r %r %r\"\n",
    "\n",
    "print (formatter % (1, 2, 3, 4))\n",
    "print (formatter % (\"one\", \"two\", \"three\", \"four\"))\n",
    "print (formatter % (True, False, False, True))\n",
    "print (formatter % (formatter, formatter, formatter, formatter))\n",
    "print (formatter % (\n",
    "    \"I had this thing.\",\n",
    "    \"That you could type up right.\",\n",
    "    \"But it didn't sing.\",\n",
    "    \"So I said goodnight.\"))"
   ]
  },
  {
   "cell_type": "markdown",
   "metadata": {},
   "source": [
    "## Exercise 9: Printing, Printing, Printing"
   ]
  },
  {
   "cell_type": "code",
   "execution_count": 5,
   "metadata": {
    "collapsed": false
   },
   "outputs": [
    {
     "name": "stdout",
     "output_type": "stream",
     "text": [
      "Here are the days:  Mon Tue Wed Thu Fri Sat Sun\n",
      "Here are the months:  Jan\n",
      "Feb\n",
      "Mar\n",
      "Apr\n",
      "May\n",
      "Jun\n",
      "Jul\n",
      "Aug\n",
      "\n",
      "There's something going on here.\n",
      "With the three double-quotes.\n",
      "We'll be able to type as much as we like.\n",
      "Even 4 lines if we want, or 5, or 6.\n",
      "\n"
     ]
    }
   ],
   "source": [
    "# Here's some new strange stuff, remember type it exactly.\n",
    "\n",
    "days = (\"Mon Tue Wed Thu Fri Sat Sun\")\n",
    "months = (\"Jan\\nFeb\\nMar\\nApr\\nMay\\nJun\\nJul\\nAug\")\n",
    "\n",
    "print (\"Here are the days: \", days)\n",
    "print (\"Here are the months: \", months)\n",
    "\n",
    "print (\"\"\"\n",
    "There's something going on here.\n",
    "With the three double-quotes.\n",
    "We'll be able to type as much as we like.\n",
    "Even 4 lines if we want, or 5, or 6.\n",
    "\"\"\")"
   ]
  },
  {
   "cell_type": "markdown",
   "metadata": {},
   "source": [
    "## Exercise 10: What Was That?"
   ]
  },
  {
   "cell_type": "code",
   "execution_count": 7,
   "metadata": {
    "collapsed": false
   },
   "outputs": [
    {
     "name": "stdout",
     "output_type": "stream",
     "text": [
      "\tI'm tabbed in.\n",
      "I'm split\n",
      "on a line.\n",
      "I'm \\ a \\ cat.\n",
      "\n",
      "I'll do a list:\n",
      "\t* Cat food\n",
      "\t* Fishies\n",
      "\t* Catnip\n",
      "\t* Grass\n",
      "\n"
     ]
    }
   ],
   "source": [
    "tabby_cat = \"\\tI'm tabbed in.\"\n",
    "persian_cat = \"I'm split\\non a line.\"\n",
    "backslash_cat = \"I'm \\\\ a \\\\ cat.\"\n",
    "\n",
    "fat_cat = \"\"\"\n",
    "I'll do a list:\n",
    "\\t* Cat food\n",
    "\\t* Fishies\n",
    "\\t* Catnip\\n\\t* Grass\n",
    "\"\"\"\n",
    "\n",
    "print (tabby_cat)\n",
    "print (persian_cat)\n",
    "print (backslash_cat)\n",
    "print (fat_cat)"
   ]
  },
  {
   "cell_type": "markdown",
   "metadata": {},
   "source": [
    "## Exercise 11: Asking Questions"
   ]
  },
  {
   "cell_type": "code",
   "execution_count": 13,
   "metadata": {
    "collapsed": false
   },
   "outputs": [
    {
     "name": "stdout",
     "output_type": "stream",
     "text": [
      "How old are you?18\n",
      "How tall are you?180\n",
      "How much do you weigh?180\n",
      "So, you're '18' old, '180' tall and '180' heavy.\n"
     ]
    }
   ],
   "source": [
    "age = input(\"How old are you?\",)\n",
    "height = input(\"How tall are you?\",)\n",
    "weight = input(\"How much do you weigh?\")\n",
    "\n",
    "print (\"So, you're %r old, %r tall and %r heavy.\" % (\n",
    "    age, height, weight))"
   ]
  },
  {
   "cell_type": "markdown",
   "metadata": {},
   "source": [
    "## Exercise 12: Prompting People"
   ]
  },
  {
   "cell_type": "markdown",
   "metadata": {},
   "source": [
    "### 在python 3中 raw_input 和input合并了，所以练习同11"
   ]
  },
  {
   "cell_type": "markdown",
   "metadata": {},
   "source": [
    "## Exercise 13: Parameters, Unpacking, Variables"
   ]
  },
  {
   "cell_type": "code",
   "execution_count": 34,
   "metadata": {
    "collapsed": false
   },
   "outputs": [
    {
     "name": "stdout",
     "output_type": "stream",
     "text": [
      "The script is called: /Users/13space/anaconda/lib/python3.5/site-packages/ipykernel/__main__.py\n",
      "Your first variable is: /Users/13space/anaconda/lib/python3.5/site-packages/ipykernel/__main__.py\n",
      "Your second variable is: -f\n",
      "Your third variable is: /Users/13space/Library/Jupyter/runtime/kernel-08c33bb2-7411-4c18-b09f-3b97ec4fcd1d.json\n"
     ]
    }
   ],
   "source": [
    "from sys import argv\n",
    "\n",
    "first, second, third = argv\n",
    "\n",
    "print (\"The script is called:\", script)\n",
    "print (\"Your first variable is:\", first)\n",
    "print (\"Your second variable is:\", second)\n",
    "print (\"Your third variable is:\", third)"
   ]
  },
  {
   "cell_type": "markdown",
   "metadata": {},
   "source": [
    "## Exercise 14: Prompting And Passing"
   ]
  },
  {
   "cell_type": "code",
   "execution_count": 33,
   "metadata": {
    "collapsed": false
   },
   "outputs": [
    {
     "name": "stdout",
     "output_type": "stream",
     "text": [
      "Hi ex1.py, I'm the /Users/13space/anaconda/lib/python3.5/site-packages/ipykernel/__main__.py script.\n",
      "I'd like to ask you a few questions.\n",
      "Do you like me ex1.py?\n",
      "> like\n",
      "Where do you live ex1.py?\n",
      "> yes\n",
      "What kind of computer do you have?\n",
      "> mac\n",
      "\n",
      "Alright, so you said 'like' about liking me.\n",
      "You live in 'yes'.  Not sure where that is.\n",
      "And you have a 'mac' computer.  Nice.\n",
      "\n"
     ]
    }
   ],
   "source": [
    "from sys import argv\n",
    "\n",
    "\n",
    "user_name =\"ex1.py\"\n",
    "prompt = '> '\n",
    "\n",
    "print (\"Hi %s, I'm the %s script.\" % (user_name, script))\n",
    "print (\"I'd like to ask you a few questions.\")\n",
    "print (\"Do you like me %s?\" % user_name)\n",
    "likes = input(prompt)\n",
    "\n",
    "print (\"Where do you live %s?\" % user_name)\n",
    "lives = input(prompt)\n",
    "\n",
    "print (\"What kind of computer do you have?\")\n",
    "computer = input(prompt)\n",
    "\n",
    "print (\"\"\"\n",
    "Alright, so you said %r about liking me.\n",
    "You live in %r.  Not sure where that is.\n",
    "And you have a %r computer.  Nice.\n",
    "\"\"\" % (likes, lives, computer))"
   ]
  },
  {
   "cell_type": "markdown",
   "metadata": {},
   "source": [
    "## Exercise 15: Reading Files"
   ]
  },
  {
   "cell_type": "code",
   "execution_count": 26,
   "metadata": {
    "collapsed": false
   },
   "outputs": [
    {
     "name": "stdout",
     "output_type": "stream",
     "text": [
      "Here's your file '/Users/13space/NLP/ex1.py':\n",
      "`print (\"Hello World!\")\n",
      "print (\"Hello Again\")\n",
      "print (\"I like typing this.\")\n",
      "print (\"This is fun.\")\n",
      "print ('Yay! Printing.')\n",
      "print (\"I'd much rather you 'not'.\")\n",
      "print ('I \"said\" do not touch this.')`\n",
      "\n",
      "Type the filename again:\n",
      "> /Users/13space/NLP/ex1.py\n",
      "`print (\"Hello World!\")\n",
      "print (\"Hello Again\")\n",
      "print (\"I like typing this.\")\n",
      "print (\"This is fun.\")\n",
      "print ('Yay! Printing.')\n",
      "print (\"I'd much rather you 'not'.\")\n",
      "print ('I \"said\" do not touch this.')`\n",
      "\n"
     ]
    }
   ],
   "source": [
    "from sys import argv\n",
    "\n",
    "## script, filename = argv\n",
    "\n",
    "filename = \"/Users/13space/NLP/ex1.py\"\n",
    "\n",
    "txt = open(filename)\n",
    "\n",
    "print (\"Here's your file %r:\" % filename)\n",
    "print (txt.read())\n",
    "\n",
    "print (\"Type the filename again:\")\n",
    "file_again = input(\"> \")\n",
    "\n",
    "txt_again = open(file_again)\n",
    "\n",
    "print (txt_again.read())"
   ]
  },
  {
   "cell_type": "markdown",
   "metadata": {},
   "source": [
    "## Exercise 16: Reading and Writing Files"
   ]
  },
  {
   "cell_type": "code",
   "execution_count": 28,
   "metadata": {
    "collapsed": false
   },
   "outputs": [
    {
     "name": "stdout",
     "output_type": "stream",
     "text": [
      "We're going to erase '/Users/13space/NLP/ex100.py'.\n",
      "If you don't want that, hit CTRL-C (^C).\n",
      "If you do want that, hit RETURN.\n",
      "?\n",
      "Opening the file...\n",
      "Truncating the file.  Goodbye!\n",
      "Now I'm going to ask you for three lines.\n",
      "line 1: saber\n",
      "line 2: fate\n",
      "line 3: lin\n",
      "I'm going to write these to the file.\n",
      "And finally, we close it.\n"
     ]
    }
   ],
   "source": [
    "## from sys import argv\n",
    "\n",
    "filename = filename = \"/Users/13space/NLP/ex100.py\"\n",
    "\n",
    "print (\"We're going to erase %r.\" % filename)\n",
    "print (\"If you don't want that, hit CTRL-C (^C).\")\n",
    "print (\"If you do want that, hit RETURN.\")\n",
    "\n",
    "input(\"?\")\n",
    "\n",
    "print (\"Opening the file...\")\n",
    "target = open(filename, 'w')\n",
    "\n",
    "print (\"Truncating the file.  Goodbye!\")\n",
    "target.truncate()\n",
    "\n",
    "print (\"Now I'm going to ask you for three lines.\")\n",
    "\n",
    "line1 = input(\"line 1: \")\n",
    "line2 = input(\"line 2: \")\n",
    "line3 = input(\"line 3: \")\n",
    "\n",
    "print (\"I'm going to write these to the file.\")\n",
    "\n",
    "target.write(line1)\n",
    "target.write(\"\\n\")\n",
    "target.write(line2)\n",
    "target.write(\"\\n\")\n",
    "target.write(line3)\n",
    "target.write(\"\\n\")\n",
    "\n",
    "print (\"And finally, we close it.\")\n",
    "target.close()"
   ]
  },
  {
   "cell_type": "markdown",
   "metadata": {},
   "source": [
    "## Exercise 17: More Files"
   ]
  },
  {
   "cell_type": "code",
   "execution_count": 31,
   "metadata": {
    "collapsed": false
   },
   "outputs": [
    {
     "name": "stdout",
     "output_type": "stream",
     "text": [
      "Copying from /Users/13space/NLP/ex1.py to /Users/13space/NLP/ex100.py\n",
      "The input file is 200 bytes long\n",
      "Does the output file exist? True\n",
      "Ready, hit RETURN to continue, CTRL-C to abort.\n",
      "\n",
      "Alright, all done.\n"
     ]
    }
   ],
   "source": [
    "from sys import argv\n",
    "from os.path import exists\n",
    "\n",
    "from_file = \"/Users/13space/NLP/ex1.py\"\n",
    "to_file = \"/Users/13space/NLP/ex100.py\"\n",
    "\n",
    "print (\"Copying from %s to %s\" % (from_file, to_file))\n",
    "\n",
    "# we could do these two on one line, how?\n",
    "in_file = open(from_file)\n",
    "indata = in_file.read()\n",
    "\n",
    "print (\"The input file is %d bytes long\" % len(indata))\n",
    "\n",
    "print (\"Does the output file exist? %r\" % exists(to_file))\n",
    "print (\"Ready, hit RETURN to continue, CTRL-C to abort.\")\n",
    "input()\n",
    "\n",
    "out_file = open(to_file, 'w')\n",
    "out_file.write(indata)\n",
    "\n",
    "print (\"Alright, all done.\")\n",
    "\n",
    "out_file.close()\n",
    "in_file.close()"
   ]
  },
  {
   "cell_type": "code",
   "execution_count": null,
   "metadata": {
    "collapsed": true
   },
   "outputs": [],
   "source": []
  }
 ],
 "metadata": {
  "anaconda-cloud": {},
  "kernelspec": {
   "display_name": "Python [conda root]",
   "language": "python",
   "name": "conda-root-py"
  },
  "language_info": {
   "codemirror_mode": {
    "name": "ipython",
    "version": 3
   },
   "file_extension": ".py",
   "mimetype": "text/x-python",
   "name": "python",
   "nbconvert_exporter": "python",
   "pygments_lexer": "ipython3",
   "version": "3.5.2"
  }
 },
 "nbformat": 4,
 "nbformat_minor": 1
}
