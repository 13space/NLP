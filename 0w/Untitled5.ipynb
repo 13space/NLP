{
 "cells": [
  {
   "cell_type": "markdown",
   "metadata": {},
   "source": [
    "# 一、统计文章二元词组\n",
    "这篇 文章 https://github.com/AIHackers/DeepLearningStartUp/blob/master/happiness_seg.txt 中，出现频率最高的前 10 个「二元词组」，并输出它们的频率。「二元词组」即文章中所有接连出现的两个词，如「今天 天气 不错」有「今天 天气」，「天气 不错」两个「二元词组」。"
   ]
  },
  {
   "cell_type": "code",
   "execution_count": 1,
   "metadata": {
    "collapsed": false
   },
   "outputs": [
    {
     "name": "stdout",
     "output_type": "stream",
     "text": [
      "*** Introductory Examples for the NLTK Book ***\n",
      "Loading text1, ..., text9 and sent1, ..., sent9\n",
      "Type the name of the text or sentence to view it.\n",
      "Type: 'texts()' or 'sents()' to list the materials.\n",
      "text1: Moby Dick by Herman Melville 1851\n",
      "text2: Sense and Sensibility by Jane Austen 1811\n",
      "text3: The Book of Genesis\n",
      "text4: Inaugural Address Corpus\n",
      "text5: Chat Corpus\n",
      "text6: Monty Python and the Holy Grail\n",
      "text7: Wall Street Journal\n",
      "text8: Personals Corpus\n",
      "text9: The Man Who Was Thursday by G . K . Chesterton 1908\n"
     ]
    }
   ],
   "source": [
    "from urllib.request import urlopen\n",
    "from nltk.book import *\n",
    "import nltk,re,pprint"
   ]
  },
  {
   "cell_type": "code",
   "execution_count": 2,
   "metadata": {
    "collapsed": false
   },
   "outputs": [
    {
     "data": {
      "text/plain": [
       "'\\n\\n幸福之路\\n第一章 \\u3000 什么 使人 不幸\\n\\n\\n动物 只要 不患 疾病 ， 食物 充足 ， 就 会 快乐 满足 。 人 也 应该 如此 ； 然而 现实 并非 这样 ， 至少 在 大多数 情况 下 并非'"
      ]
     },
     "execution_count": 2,
     "metadata": {},
     "output_type": "execute_result"
    }
   ],
   "source": [
    "url = r'https://raw.githubusercontent.com/OpenMindClub/DeepLearningStartUp/master/happiness_seg.txt'\n",
    "raw = urlopen(url).read()\n",
    "raw = raw.decode('utf-8')\n",
    "raw[:100]"
   ]
  },
  {
   "cell_type": "code",
   "execution_count": 3,
   "metadata": {
    "collapsed": false
   },
   "outputs": [
    {
     "data": {
      "text/plain": [
       "['幸福之路', '第一章', '什么', '使人', '不幸', '动物', '只要', '不患', '疾病', '食物']"
      ]
     },
     "execution_count": 3,
     "metadata": {},
     "output_type": "execute_result"
    }
   ],
   "source": [
    "## 分词并进行数据清洗：标点符号ASCII码：英文标点 u2000-u206f，中文标点 u3000-u303f， 全角 ff00-ffef\n",
    "spl = re.split(r'[ \\t\\n\\u2000-\\u206f\\u3000-\\u303f\\uff00-\\uffef]',raw) \n",
    "txt = list(filter(lambda x: len(x) > 0 , spl)) \n",
    "len(txt)\n",
    "txt[:10] "
   ]
  },
  {
   "cell_type": "code",
   "execution_count": 6,
   "metadata": {
    "collapsed": false
   },
   "outputs": [
    {
     "data": {
      "text/plain": [
       "[('幸福之路', '第一章'),\n",
       " ('第一章', '什么'),\n",
       " ('什么', '使人'),\n",
       " ('使人', '不幸'),\n",
       " ('不幸', '动物'),\n",
       " ('动物', '只要'),\n",
       " ('只要', '不患'),\n",
       " ('不患', '疾病'),\n",
       " ('疾病', '食物')]"
      ]
     },
     "execution_count": 6,
     "metadata": {},
     "output_type": "execute_result"
    }
   ],
   "source": [
    "from nltk import bigrams\n",
    "listn = list(bigrams(txt[:10])) # 统计出现的二元词组\n",
    "listn[:10] "
   ]
  },
  {
   "cell_type": "code",
   "execution_count": 7,
   "metadata": {
    "collapsed": false
   },
   "outputs": [
    {
     "data": {
      "text/plain": [
       "[(('幸福之路', '第一章'), 1),\n",
       " (('不幸', '动物'), 1),\n",
       " (('使人', '不幸'), 1),\n",
       " (('疾病', '食物'), 1),\n",
       " (('第一章', '什么'), 1),\n",
       " (('只要', '不患'), 1),\n",
       " (('动物', '只要'), 1),\n",
       " (('什么', '使人'), 1),\n",
       " (('不患', '疾病'), 1)]"
      ]
     },
     "execution_count": 7,
     "metadata": {},
     "output_type": "execute_result"
    }
   ],
   "source": [
    "# 取前10频率最高词组\n",
    "Flist2 = FreqDist(listn)\n",
    "Flist2.most_common(10) "
   ]
  },
  {
   "cell_type": "code",
   "execution_count": null,
   "metadata": {
    "collapsed": true
   },
   "outputs": [],
   "source": []
  }
 ],
 "metadata": {
  "kernelspec": {
   "display_name": "Python [conda root]",
   "language": "python",
   "name": "conda-root-py"
  },
  "language_info": {
   "codemirror_mode": {
    "name": "ipython",
    "version": 3
   },
   "file_extension": ".py",
   "mimetype": "text/x-python",
   "name": "python",
   "nbconvert_exporter": "python",
   "pygments_lexer": "ipython3",
   "version": "3.5.2"
  }
 },
 "nbformat": 4,
 "nbformat_minor": 1
}
