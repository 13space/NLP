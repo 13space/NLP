{
 "cells": [
  {
   "cell_type": "code",
   "execution_count": 80,
   "metadata": {
    "collapsed": true
   },
   "outputs": [],
   "source": [
    "import jieba.posseg as pseg\n",
    "from collections import Counter\n",
    "from collections import defaultdict\n",
    "import random"
   ]
  },
  {
   "cell_type": "code",
   "execution_count": 150,
   "metadata": {
    "collapsed": false
   },
   "outputs": [
    {
     "name": "stdout",
     "output_type": "stream",
     "text": [
      "dict_items([('context', Counter({'word': 1}))])\n",
      "dict_items([('context', Counter({'word': 1}))])\n",
      "第一章\n",
      "　\n",
      "----\n",
      "dict_items([('context', Counter({'word': 2}))])\n",
      "dict_items([('context', Counter({'word': 2}))])\n",
      "　\n",
      "什么\n",
      "----\n",
      "dict_items([('context', Counter({'word': 3}))])\n",
      "dict_items([('context', Counter({'word': 3}))])\n",
      "什么\n",
      "使\n",
      "----\n",
      "dict_items([('context', Counter({'word': 4}))])\n",
      "dict_items([('context', Counter({'word': 4}))])\n",
      "使\n",
      "人\n",
      "----\n",
      "dict_items([('context', Counter({'word': 5}))])\n",
      "dict_items([('context', Counter({'word': 5}))])\n",
      "人\n",
      "不幸\n",
      "----\n"
     ]
    }
   ],
   "source": [
    "ngram = 2\n",
    "\n",
    "line_no = 0\n",
    "limit = 5\n",
    "dct = defaultdict(Counter)      ## 默认字典\n",
    "\n",
    "for line in open('happiness.txt'): ## 读取每一行\n",
    "    line_no += 1\n",
    "    if line_no > limit:\n",
    "        break\n",
    "    words = pseg.cut(line.strip())  ## 去除头尾空格\n",
    "    words = [i.word for i in words] ## 转成list，取词不要词性，或者前面用jieba切割\n",
    "    \n",
    "\n",
    "    for i in range(ngram-1, len(words)):\n",
    "        context = tuple(words[(i-ngram+1):i])## i的前ngram项为上文\n",
    "        word = words[i]  \n",
    "        dct['context']['word'] += 1\n",
    "        print(dct.items())\n",
    "        print(\"\\t\".join(context))\n",
    "        print(word)\n",
    "        print(\"----\")"
   ]
  },
  {
   "cell_type": "code",
   "execution_count": 148,
   "metadata": {
    "collapsed": false
   },
   "outputs": [
    {
     "name": "stdout",
     "output_type": "stream",
     "text": [
      "dict_items([])\n",
      "0.0\n",
      "Counter()\n"
     ]
    },
    {
     "data": {
      "text/plain": [
       "(None, None)"
      ]
     },
     "execution_count": 148,
     "metadata": {},
     "output_type": "execute_result"
    }
   ],
   "source": [
    "\n",
    "## 归一\n",
    "\n",
    "prob_dct = dct.copy()\n",
    "\n",
    "print(prob_dct.items())\n",
    "\n",
    "for context, cnt in dct.items():\n",
    "    s = float(sum(cnt.values()))\n",
    "    print(cnt.values())\n",
    "    print(s)\n",
    "    \n",
    "    for word,cnt in cnt.items():\n",
    "        dct[context][word] = cnt/s\n",
    "\n",
    "print(s),print(cnt)"
   ]
  },
  {
   "cell_type": "code",
   "execution_count": 143,
   "metadata": {
    "collapsed": false
   },
   "outputs": [],
   "source": [
    "for (word,flag), cnt in lm.most_common(10):\n",
    "    print(\"%s %s, %d\" % (word, flag, cnt))"
   ]
  },
  {
   "cell_type": "code",
   "execution_count": 144,
   "metadata": {
    "collapsed": false
   },
   "outputs": [],
   "source": [
    "## 根据条件概率随机生成词汇\n",
    "def gen_w(context):\n",
    "    r = random.random()\n",
    "    s_ = 0.0\n",
    "    for (word, prob) in dct[context].items():\n",
    "        print(word)\n",
    "        s_ += prob\n",
    "        if s_ >= r:\n",
    "            return word"
   ]
  },
  {
   "cell_type": "code",
   "execution_count": 85,
   "metadata": {
    "collapsed": false
   },
   "outputs": [],
   "source": [
    "context = '什么'\n",
    "\n",
    "r = random.random()\n",
    "##print(r)\n",
    "s_ = 0.0\n",
    "\n",
    "for word, prob in dct[context].items():\n",
    "    print(word)\n",
    "    s_ += prob\n",
    "    if s_ >= r:\n",
    "        print(word)\n",
    "    else:\n",
    "        print(prob)"
   ]
  },
  {
   "cell_type": "code",
   "execution_count": 86,
   "metadata": {
    "collapsed": false
   },
   "outputs": [],
   "source": [
    "## 生成句子\n",
    "\n",
    "def gen_s(m):\n",
    "    sentences = []\n",
    "    text = ''\n",
    "    context = tuple([START for i in range(ngram-1)])\n",
    "    i = 0\n",
    "    while (i < m):\n",
    "        word = gen_w(context)\n",
    "        ##print(word)\n",
    "        ##print(context)\n",
    "        text = text + word\n",
    "        context = tuple((list(context) + [word])[1:])\n",
    "        if word in BREAK:\n",
    "            sentences.append(text)\n",
    "            text = ''\n",
    "            context = tuple([START for i in range(ngram-1)])\n",
    "            i += 1\n",
    "    return sentences\n"
   ]
  },
  {
   "cell_type": "code",
   "execution_count": 76,
   "metadata": {
    "collapsed": false
   },
   "outputs": [
    {
     "ename": "TypeError",
     "evalue": "Can't convert 'NoneType' object to str implicitly",
     "output_type": "error",
     "traceback": [
      "\u001b[0;31m---------------------------------------------------------------------------\u001b[0m",
      "\u001b[0;31mTypeError\u001b[0m                                 Traceback (most recent call last)",
      "\u001b[0;32m<ipython-input-76-a88716bff54c>\u001b[0m in \u001b[0;36m<module>\u001b[0;34m()\u001b[0m\n\u001b[1;32m      3\u001b[0m \u001b[0ms\u001b[0m \u001b[0;34m=\u001b[0m \u001b[0;34m''\u001b[0m\u001b[0;34m\u001b[0m\u001b[0m\n\u001b[1;32m      4\u001b[0m \u001b[0;32mfor\u001b[0m \u001b[0mi\u001b[0m \u001b[0;32min\u001b[0m \u001b[0mlist\u001b[0m\u001b[0;34m(\u001b[0m\u001b[0mrange\u001b[0m\u001b[0;34m(\u001b[0m\u001b[0;36m2\u001b[0m\u001b[0;34m,\u001b[0m\u001b[0;36m6\u001b[0m\u001b[0;34m)\u001b[0m\u001b[0;34m)\u001b[0m\u001b[0;34m:\u001b[0m\u001b[0;34m\u001b[0m\u001b[0m\n\u001b[0;32m----> 5\u001b[0;31m     \u001b[0mword\u001b[0m \u001b[0;34m=\u001b[0m \u001b[0mgen_s\u001b[0m\u001b[0;34m(\u001b[0m\u001b[0;36m5\u001b[0m\u001b[0;34m)\u001b[0m\u001b[0;34m\u001b[0m\u001b[0m\n\u001b[0m\u001b[1;32m      6\u001b[0m     \u001b[0ms\u001b[0m \u001b[0;34m+=\u001b[0m \u001b[0mword\u001b[0m\u001b[0;34m\u001b[0m\u001b[0m\n\u001b[1;32m      7\u001b[0m \u001b[0mprint\u001b[0m\u001b[0;34m(\u001b[0m\u001b[0ms\u001b[0m\u001b[0;34m)\u001b[0m\u001b[0;34m\u001b[0m\u001b[0m\n",
      "\u001b[0;32m<ipython-input-75-804fe9b7be90>\u001b[0m in \u001b[0;36mgen_s\u001b[0;34m(m)\u001b[0m\n\u001b[1;32m     10\u001b[0m         \u001b[0;31m##print(word)\u001b[0m\u001b[0;34m\u001b[0m\u001b[0;34m\u001b[0m\u001b[0m\n\u001b[1;32m     11\u001b[0m         \u001b[0;31m##print(context)\u001b[0m\u001b[0;34m\u001b[0m\u001b[0;34m\u001b[0m\u001b[0m\n\u001b[0;32m---> 12\u001b[0;31m         \u001b[0mtext\u001b[0m \u001b[0;34m=\u001b[0m \u001b[0mtext\u001b[0m \u001b[0;34m+\u001b[0m \u001b[0mword\u001b[0m\u001b[0;34m\u001b[0m\u001b[0m\n\u001b[0m\u001b[1;32m     13\u001b[0m         \u001b[0mcontext\u001b[0m \u001b[0;34m=\u001b[0m \u001b[0mtuple\u001b[0m\u001b[0;34m(\u001b[0m\u001b[0;34m(\u001b[0m\u001b[0mlist\u001b[0m\u001b[0;34m(\u001b[0m\u001b[0mcontext\u001b[0m\u001b[0;34m)\u001b[0m \u001b[0;34m+\u001b[0m \u001b[0;34m[\u001b[0m\u001b[0mword\u001b[0m\u001b[0;34m]\u001b[0m\u001b[0;34m)\u001b[0m\u001b[0;34m[\u001b[0m\u001b[0;36m1\u001b[0m\u001b[0;34m:\u001b[0m\u001b[0;34m]\u001b[0m\u001b[0;34m)\u001b[0m\u001b[0;34m\u001b[0m\u001b[0m\n\u001b[1;32m     14\u001b[0m         \u001b[0;32mif\u001b[0m \u001b[0mword\u001b[0m \u001b[0;32min\u001b[0m \u001b[0mBREAK\u001b[0m\u001b[0;34m:\u001b[0m\u001b[0;34m\u001b[0m\u001b[0m\n",
      "\u001b[0;31mTypeError\u001b[0m: Can't convert 'NoneType' object to str implicitly"
     ]
    }
   ],
   "source": [
    "START = '什么'\n",
    "BREAK = '。！？' \n",
    "s = ''\n",
    "for i in list(range(2,6)):\n",
    "    word = gen_s(5)\n",
    "    s += word\n",
    "print(s)"
   ]
  },
  {
   "cell_type": "code",
   "execution_count": null,
   "metadata": {
    "collapsed": true
   },
   "outputs": [],
   "source": []
  }
 ],
 "metadata": {
  "anaconda-cloud": {},
  "kernelspec": {
   "display_name": "Python [conda root]",
   "language": "python",
   "name": "conda-root-py"
  },
  "language_info": {
   "codemirror_mode": {
    "name": "ipython",
    "version": 3
   },
   "file_extension": ".py",
   "mimetype": "text/x-python",
   "name": "python",
   "nbconvert_exporter": "python",
   "pygments_lexer": "ipython3",
   "version": "3.5.2"
  }
 },
 "nbformat": 4,
 "nbformat_minor": 1
}
