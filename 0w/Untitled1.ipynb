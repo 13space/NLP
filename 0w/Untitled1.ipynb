{
 "cells": [
  {
   "cell_type": "code",
   "execution_count": 1,
   "metadata": {
    "collapsed": false
   },
   "outputs": [
    {
     "name": "stdout",
     "output_type": "stream",
     "text": [
      "*** Introductory Examples for the NLTK Book ***\n",
      "Loading text1, ..., text9 and sent1, ..., sent9\n",
      "Type the name of the text or sentence to view it.\n",
      "Type: 'texts()' or 'sents()' to list the materials.\n",
      "text1: Moby Dick by Herman Melville 1851\n",
      "text2: Sense and Sensibility by Jane Austen 1811\n",
      "text3: The Book of Genesis\n",
      "text4: Inaugural Address Corpus\n",
      "text5: Chat Corpus\n",
      "text6: Monty Python and the Holy Grail\n",
      "text7: Wall Street Journal\n",
      "text8: Personals Corpus\n",
      "text9: The Man Who Was Thursday by G . K . Chesterton 1908\n"
     ]
    }
   ],
   "source": [
    "from nltk.book import *\n",
    "import nltk,re,pprint\n",
    "from __future__ import division\n",
    "from urllib.request import urlopen\n",
    "import re"
   ]
  },
  {
   "cell_type": "code",
   "execution_count": 2,
   "metadata": {
    "collapsed": false
   },
   "outputs": [
    {
     "name": "stdout",
     "output_type": "stream",
     "text": [
      "223616\n"
     ]
    },
    {
     "data": {
      "text/plain": [
       "['幸福之路', '第一章', '什么', '使人', '不幸', '动物', '只要', '不患', '疾病', '食物']"
      ]
     },
     "execution_count": 2,
     "metadata": {},
     "output_type": "execute_result"
    }
   ],
   "source": [
    "# 从链接地址取得文本\n",
    "url = r'https://raw.githubusercontent.com/OpenMindClub/DeepLearningStartUp/master/happiness_seg.txt'\n",
    "raw = urlopen(url).read()\n",
    "raw = raw.decode('utf-8')\n",
    "\n",
    "## 标点符号ASCII码：英文标点 u2000-u206f，中文标点 u3000-u303f， 全角 ff00-ffef\n",
    "spl = re.split(r'[ \\t\\n\\u2000-\\u206f\\u3000-\\u303f\\uff00-\\uffef]',raw) # 去掉标点，并对文本进行切割\n",
    "txt = list(filter(lambda x: len(x) > 0 , spl)) # 去掉所有空元素\n",
    "print (len(txt))\n",
    "txt[:10] "
   ]
  },
  {
   "cell_type": "code",
   "execution_count": 7,
   "metadata": {
    "collapsed": false
   },
   "outputs": [
    {
     "data": {
      "text/plain": [
       "[('幸福之路', '第一章'),\n",
       " ('第一章', '什么'),\n",
       " ('什么', '使人'),\n",
       " ('使人', '不幸'),\n",
       " ('不幸', '动物'),\n",
       " ('动物', '只要'),\n",
       " ('只要', '不患'),\n",
       " ('不患', '疾病'),\n",
       " ('疾病', '食物'),\n",
       " ('食物', '充足')]"
      ]
     },
     "execution_count": 7,
     "metadata": {},
     "output_type": "execute_result"
    }
   ],
   "source": [
    "from nltk import bigrams\n",
    "listn = list(bigrams(txt)) # 统计出现的二元词组\n",
    "listn[:10]"
   ]
  },
  {
   "cell_type": "code",
   "execution_count": 12,
   "metadata": {
    "collapsed": false
   },
   "outputs": [
    {
     "data": {
      "text/plain": [
       "tuple"
      ]
     },
     "execution_count": 12,
     "metadata": {},
     "output_type": "execute_result"
    }
   ],
   "source": [
    "type(listn[1])"
   ]
  },
  {
   "cell_type": "code",
   "execution_count": 8,
   "metadata": {
    "collapsed": false
   },
   "outputs": [
    {
     "data": {
      "text/plain": [
       "[(('的', '人'), 930),\n",
       " (('他', '的'), 503),\n",
       " (('自己', '的'), 480),\n",
       " (('上', '的'), 356),\n",
       " (('他们', '的'), 335),\n",
       " (('人', '的'), 293),\n",
       " (('的', '时候'), 261),\n",
       " (('就', '会'), 225),\n",
       " (('的', '东西'), 207),\n",
       " (('都', '是'), 206)]"
      ]
     },
     "execution_count": 8,
     "metadata": {},
     "output_type": "execute_result"
    }
   ],
   "source": [
    "# 取前10频率最高词组\n",
    "Flist2 = FreqDist(listn)\n",
    "Flist2.most_common(10) "
   ]
  },
  {
   "cell_type": "code",
   "execution_count": 9,
   "metadata": {
    "collapsed": false
   },
   "outputs": [
    {
     "data": {
      "image/png": "[encoded data removed]",
      "text/plain": [
       "<matplotlib.figure.Figure at 0x11361a550>"
      ]
     },
     "metadata": {},
     "output_type": "display_data"
    }
   ],
   "source": [
    "import warnings\n",
    "Flist2.plot(10,cumulative = True)  ## 画下前10个二元词组的累积词频"
   ]
  },
  {
   "cell_type": "code",
   "execution_count": null,
   "metadata": {
    "collapsed": true
   },
   "outputs": [],
   "source": []
  }
 ],
 "metadata": {
  "anaconda-cloud": {},
  "kernelspec": {
   "display_name": "Python [conda root]",
   "language": "python",
   "name": "conda-root-py"
  },
  "language_info": {
   "codemirror_mode": {
    "name": "ipython",
    "version": 3
   },
   "file_extension": ".py",
   "mimetype": "text/x-python",
   "name": "python",
   "nbconvert_exporter": "python",
   "pygments_lexer": "ipython3",
   "version": "3.5.2"
  }
 },
 "nbformat": 4,
 "nbformat_minor": 1
}
