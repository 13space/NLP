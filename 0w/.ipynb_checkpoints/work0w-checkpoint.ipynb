{
 "cells": [
  {
   "cell_type": "markdown",
   "metadata": {},
   "source": [
    "# 统计文章二元词组\n",
    "这篇 文章 https://github.com/AIHackers/DeepLearningStartUp/blob/master/happiness_seg.txt 中，出现频率最高的前 10 个「二元词组」，并输出它们的频率。「二元词组」即文章中所有接连出现的两个词，如「今天 天气 不错」有「今天 天气」，「天气 不错」两个「二元词组」。"
   ]
  },
  {
   "cell_type": "code",
   "execution_count": 104,
   "metadata": {
    "collapsed": false
   },
   "outputs": [],
   "source": [
    "## from zhon.hanzo import punctuation\n",
    "from nltk.book import *\n",
    "import nltk,re,pprint\n",
    "from __future__ import division\n",
    "from urllib.request import urlopen\n",
    "import re"
   ]
  },
  {
   "cell_type": "code",
   "execution_count": 105,
   "metadata": {
    "collapsed": false
   },
   "outputs": [
    {
     "data": {
      "text/plain": [
       "674947"
      ]
     },
     "execution_count": 105,
     "metadata": {},
     "output_type": "execute_result"
    }
   ],
   "source": [
    "# 从链接地址取得文本\n",
    "url = r'https://raw.githubusercontent.com/OpenMindClub/DeepLearningStartUp/master/happiness_seg.txt'\n",
    "raw = urlopen(url).read()\n",
    "raw = raw.decode('utf-8')\n",
    "# 测试原始文本长度\n",
    "len(raw)"
   ]
  },
  {
   "cell_type": "code",
   "execution_count": 106,
   "metadata": {
    "collapsed": false
   },
   "outputs": [
    {
     "data": {
      "text/plain": [
       "'\\n\\n幸福之路\\n第一章 \\u3000 什么 使人 不幸\\n\\n\\n动物 只要 不患 疾病 ， 食物 充足 ， 就 会 快乐 满足 。 人 也 应该 如此 ； 然而 现实 并非 这样 ， 至少 在 大多数 情况 下 并非 这样 。 假如 你 是 不幸 的 ， 你 或许 就 会 承认 ， 自己 在 这 一方面 并 不是 个 例外 。 假如 你 是 幸福 的 ， 请 自问 一下 ， 你 的 朋友 中有 几个 是 幸福 的 。 当 你 对 自己 的 朋友 作 了 一番 评论 之后 ， 你 就 应该 学会 察言观色 之术 ， 使 自己 更 善于 感受 日常生活 中 所 遇到 的 人们 的 各种 情绪 。 布莱克 说 ：\\n\\n我见 过 的 一张 张 脸孔 ， 斑斑 懦弱 ， 点点 愁怨 。\\n\\n虽然 不幸 的 形式 多种多样 ， 但 你 却 不难 发现 ， 它 无处不在 。 上班时间 广立 繁忙 街头 ， 周末 闲暇 盘桓 通行 大道 ， 或者 良宵 时光 留连 于 歌堂 舞厅 ， 这时 ， 请 把 自我 从 灵魂 处 放空 ， 让 周围 的 陌生人 的 性情 ― 一 占据 你 的 视野 。 你 将 会 发现 ， 这些 不同 的 群体 都 有着 各自 的 烦恼 。 在 赶着 上班 的 人流 里 ， 你 会 看到 焦躁 不安 。 过度 紧张 、 消化不良 ， 那种 除了 生存斗争 以外 对 一切 缺乏 兴趣 的 态度 ， 对 游戏 娱乐 兴味索然 ， 以及 对 人类 同伴 的 冷漠 无情 。 在 周末 的 通行 大道 上 ， 你 会 看到 男男女女 ， 轻松 悠闲 ； 那些 很 有钱 的 人 ， 则 致力于 追逐 快活 享乐 。 这种 追逐 完全 以 同样 的 速度 开始 ， 像 长长的 车队 缓缓 爬行 。 从 车里 根本 看不见 道路 或是 周围 的 景象 ， 因为 稍 一旁 视便 会 引发 交通事故 。 所有 坐在 车里 的 人 时刻 都 在 设法 超越 前面 的 车辆 ， 但是 道路 如此 拥挤 ， 以致 他们 徒自 白费 心力 。 如果 他们 的 心绪 由此 游离 开去 ， 就 像 那些 未握 驾驶盘 的 人 那样 ， 一种 难以名状 的 厌烦 就 会 攫住 他们 ， 使 他们 的 表情 打 上 微微 不满 的 印记 。 有时 一辆 满载 黑人 的 车上 会 爆发 出 真诚 的 快活 来 ，'"
      ]
     },
     "execution_count": 106,
     "metadata": {},
     "output_type": "execute_result"
    }
   ],
   "source": [
    "raw[:1000] # 取前 500 个字符"
   ]
  },
  {
   "cell_type": "markdown",
   "metadata": {},
   "source": [
    "### 由以上文本可知，需要对原始文本进行分割。因为文本已经有空格进行好的分词，因此只需要通过空格分割文本即可"
   ]
  },
  {
   "cell_type": "code",
   "execution_count": 120,
   "metadata": {
    "collapsed": false
   },
   "outputs": [
    {
     "name": "stdout",
     "output_type": "stream",
     "text": [
      "223616\n"
     ]
    },
    {
     "data": {
      "text/plain": [
       "['幸福之路',\n",
       " '第一章',\n",
       " '什么',\n",
       " '使人',\n",
       " '不幸',\n",
       " '动物',\n",
       " '只要',\n",
       " '不患',\n",
       " '疾病',\n",
       " '食物',\n",
       " '充足',\n",
       " '就',\n",
       " '会',\n",
       " '快乐',\n",
       " '满足',\n",
       " '人',\n",
       " '也',\n",
       " '应该',\n",
       " '如此',\n",
       " '然而',\n",
       " '现实',\n",
       " '并非',\n",
       " '这样',\n",
       " '至少',\n",
       " '在']"
      ]
     },
     "execution_count": 120,
     "metadata": {},
     "output_type": "execute_result"
    }
   ],
   "source": [
    "## 标点符号ASCII码：英文标点 u2000-u206f，中文标点 u3000-u303f， 全角 ff00-ffef\n",
    "spl = re.split(r'[ \\t\\n\\u2000-\\u206f\\u3000-\\u303f\\uff00-\\uffef]',raw) # 进行文本切割\n",
    "txt = list(filter(lambda x: len(x) > 0 , spl)) # 去掉所有空元素\n",
    "print (len(txt))\n",
    "txt[:25] "
   ]
  },
  {
   "cell_type": "markdown",
   "metadata": {},
   "source": [
    "### 创建 n-gram 模型里 n 元词组"
   ]
  },
  {
   "cell_type": "code",
   "execution_count": 1,
   "metadata": {
    "collapsed": false
   },
   "outputs": [
    {
     "ename": "IndentationError",
     "evalue": "expected an indented block (<ipython-input-1-9acbc1b5aa92>, line 15)",
     "output_type": "error",
     "traceback": [
      "\u001b[0;36m  File \u001b[0;32m\"<ipython-input-1-9acbc1b5aa92>\"\u001b[0;36m, line \u001b[0;32m15\u001b[0m\n\u001b[0;31m    output.append(ngTemp)\u001b[0m\n\u001b[0m         ^\u001b[0m\n\u001b[0;31mIndentationError\u001b[0m\u001b[0;31m:\u001b[0m expected an indented block\n"
     ]
    }
   ],
   "source": [
    "def getNG(input,n):\n",
    "    output = []\n",
    "    print (input[0])\n",
    "    for i in range(len(input)-n+1):\n",
    "        ## ngTemp = \"\".join(input[i:i+n])\n",
    "        ngTemp = \",\".join(input[i:i+n])\n",
    "        ## if isCommon(ngTemp.split()[0]) or isCommon(ngTemp.split()[1]):\n",
    "            ## pass\n",
    "        ## print (ngTemp)\n",
    "        ## else:\n",
    "        if ngTemp not in output:\n",
    "            ## output[ngTemp] = 0\n",
    "        ## output[ngTemp] += 1\n",
    "            ## output.append[i] = ngTemp\n",
    "            output.append(ngTemp)\n",
    "    return output      \n",
    "getNG(txt,2)"
   ]
  },
  {
   "cell_type": "code",
   "execution_count": 99,
   "metadata": {
    "collapsed": false
   },
   "outputs": [
    {
     "data": {
      "text/plain": [
       "[('幸福之路', '第一章'),\n",
       " ('第一章', '什么'),\n",
       " ('什么', '使人'),\n",
       " ('使人', '不幸'),\n",
       " ('不幸', '动物'),\n",
       " ('动物', '只要'),\n",
       " ('只要', '不患'),\n",
       " ('不患', '疾病'),\n",
       " ('疾病', '食物'),\n",
       " ('食物', '充足'),\n",
       " ('充足', '就'),\n",
       " ('就', '会'),\n",
       " ('会', '快乐'),\n",
       " ('快乐', '满足'),\n",
       " ('满足', '人'),\n",
       " ('人', '也'),\n",
       " ('也', '应该'),\n",
       " ('应该', '如此'),\n",
       " ('如此', '然而'),\n",
       " ('然而', '现实'),\n",
       " ('现实', '并非'),\n",
       " ('并非', '这样'),\n",
       " ('这样', '至少'),\n",
       " ('至少', '在')]"
      ]
     },
     "execution_count": 99,
     "metadata": {},
     "output_type": "execute_result"
    }
   ],
   "source": [
    "from nltk import bigrams\n",
    "list(bigrams(txt[:25])) # 统计出现的二元词组"
   ]
  },
  {
   "cell_type": "code",
   "execution_count": null,
   "metadata": {
    "collapsed": true
   },
   "outputs": [],
   "source": []
  },
  {
   "cell_type": "code",
   "execution_count": null,
   "metadata": {
    "collapsed": true
   },
   "outputs": [],
   "source": []
  },
  {
   "cell_type": "code",
   "execution_count": 100,
   "metadata": {
    "collapsed": false
   },
   "outputs": [
    {
     "data": {
      "text/plain": [
       "' \\t\\n\\r\\x0b\\x0c'"
      ]
     },
     "execution_count": 100,
     "metadata": {},
     "output_type": "execute_result"
    }
   ],
   "source": [
    "import string\n",
    "string.whitespace"
   ]
  },
  {
   "cell_type": "markdown",
   "metadata": {},
   "source": [
    "## 但我们会发现，前面有的二元词组包括标点符号，因此还需要清洗"
   ]
  },
  {
   "cell_type": "code",
   "execution_count": 101,
   "metadata": {
    "collapsed": false
   },
   "outputs": [],
   "source": [
    "w1 = '，'\n",
    "w2 = '。'\n",
    "w3 = '―'\n",
    "w4 = '；'\n",
    "\n",
    "list1 = list(bigrams(spl))\n",
    "listx = list1\n",
    "listn = list1\n",
    "l = len(list1)\n",
    "m = 0\n",
    "\n",
    "for i in range(0,l-1):\n",
    "    c1 = (w1 in listx[i][0]) or (w1 in listx[i][1]) or (w2 in listx[i][0]) or (w2 in listx[i][1])\n",
    "    c2 = (w3 in listx[i][0]) or (w3 in listx[i][1]) or (w4 in listx[i][0]) or (w4 in listx[i][1])\n",
    "    if not (c1 or c2):\n",
    "            if listx[i] != ('', ''):\n",
    "                listn[m] = listx[i] \n",
    "                m += 1\n"
   ]
  },
  {
   "cell_type": "code",
   "execution_count": 102,
   "metadata": {
    "collapsed": false
   },
   "outputs": [
    {
     "data": {
      "text/plain": [
       "[(('', ''), 4420),\n",
       " (('的', ''), 2530),\n",
       " (('', '在'), 1448),\n",
       " (('', '我'), 1046),\n",
       " (('的', '人'), 1005),\n",
       " (('', '他'), 999),\n",
       " (('', '但'), 915),\n",
       " (('', '而'), 910),\n",
       " (('了', ''), 877),\n",
       " (('', '他们'), 750)]"
      ]
     },
     "execution_count": 102,
     "metadata": {},
     "output_type": "execute_result"
    }
   ],
   "source": [
    "# 取前10频率最高词组\n",
    "Flist2 = FreqDist(listn)\n",
    "Flist2.most_common(10) "
   ]
  },
  {
   "cell_type": "code",
   "execution_count": 103,
   "metadata": {
    "collapsed": false
   },
   "outputs": [
    {
     "data": {
      "image/png": "[encoded data removed]",
      "text/plain": [
       "<matplotlib.figure.Figure at 0x11a447a90>"
      ]
     },
     "metadata": {},
     "output_type": "display_data"
    }
   ],
   "source": [
    "import warnings\n",
    "Flist2.plot(10,cumulative = True)  ## 画下前10个二元词组的累积词频"
   ]
  },
  {
   "cell_type": "code",
   "execution_count": null,
   "metadata": {
    "collapsed": true
   },
   "outputs": [],
   "source": []
  }
 ],
 "metadata": {
  "anaconda-cloud": {},
  "kernelspec": {
   "display_name": "Python [conda root]",
   "language": "python",
   "name": "conda-root-py"
  },
  "language_info": {
   "codemirror_mode": {
    "name": "ipython",
    "version": 3
   },
   "file_extension": ".py",
   "mimetype": "text/x-python",
   "name": "python",
   "nbconvert_exporter": "python",
   "pygments_lexer": "ipython3",
   "version": "3.5.2"
  }
 },
 "nbformat": 4,
 "nbformat_minor": 1
}
