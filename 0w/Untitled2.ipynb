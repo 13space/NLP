{
 "cells": [
  {
   "cell_type": "code",
   "execution_count": 30,
   "metadata": {
    "collapsed": false
   },
   "outputs": [
    {
     "data": {
      "text/plain": [
       "2*x**2*cos(x**2) + sin(x**2)"
      ]
     },
     "execution_count": 30,
     "metadata": {},
     "output_type": "execute_result"
    }
   ],
   "source": [
    "from sympy import *\n",
    "import numpy as np\n",
    "import math\n",
    "\n",
    "## diff((math.sin(x^2)*x),x)\n",
    "from sympy import *\n",
    "\n",
    "diff((math.sin(x)),x)"
   ]
  },
  {
   "cell_type": "code",
   "execution_count": 6,
   "metadata": {
    "collapsed": false
   },
   "outputs": [
    {
     "name": "stdout",
     "output_type": "stream",
     "text": [
      "<function deriv.<locals>.<lambda> at 0x107e3e730>\n"
     ]
    }
   ],
   "source": [
    "def deriv(f):\n",
    "    dx=0.00000001\n",
    "    return lambda x: (f(x+dx)-f(x))/dx\n",
    "\n",
    "print(deriv(lambda x:x**3))"
   ]
  },
  {
   "cell_type": "code",
   "execution_count": 9,
   "metadata": {
    "collapsed": false
   },
   "outputs": [
    {
     "data": {
      "text/plain": [
       "array([0, 1, 2, 3, 4])"
      ]
     },
     "execution_count": 9,
     "metadata": {},
     "output_type": "execute_result"
    }
   ],
   "source": [
    "data = np.array(range(5), dtype = int)\n",
    "data\n",
    "# array([0, 1, 2, 3, 4])"
   ]
  },
  {
   "cell_type": "code",
   "execution_count": 10,
   "metadata": {
    "collapsed": false
   },
   "outputs": [
    {
     "data": {
      "text/plain": [
       "True"
      ]
     },
     "execution_count": 10,
     "metadata": {},
     "output_type": "execute_result"
    }
   ],
   "source": [
    "data2 = np.asarray(data)\n",
    "data2 is data\n",
    "# True"
   ]
  },
  {
   "cell_type": "code",
   "execution_count": 11,
   "metadata": {
    "collapsed": false
   },
   "outputs": [
    {
     "data": {
      "text/plain": [
       "array([ 1,  3,  5,  7,  9, 11, 13, 15])"
      ]
     },
     "execution_count": 11,
     "metadata": {},
     "output_type": "execute_result"
    }
   ],
   "source": [
    "np.arange(1, 16, 2)\n",
    "# array([ 1,  3,  5,  7,  9, 11, 13, 15])"
   ]
  },
  {
   "cell_type": "code",
   "execution_count": 14,
   "metadata": {
    "collapsed": false
   },
   "outputs": [
    {
     "data": {
      "text/plain": [
       "array([ 0.46203936,  0.57887028, -0.48350971, -0.17259144,  0.29522084,\n",
       "       -0.17623504, -1.36532517, -0.64192032,  0.25113715, -3.05718421,\n",
       "       -1.52745125,  1.36497862,  0.50262308, -1.30090939, -2.12065487,\n",
       "        0.13114586,  1.73296558,  0.31752394,  0.50502705,  0.83079067,\n",
       "       -0.73750229,  0.30729387, -1.37924159,  1.65830623, -1.66325065,\n",
       "        2.80588447,  1.16671363,  0.58499255, -0.90488892,  0.15613594,\n",
       "        1.68066984,  0.93728315, -0.48760476, -1.24855738, -1.78952993,\n",
       "        0.81968322, -0.54783846, -0.3298728 ,  0.17173561, -0.68799777,\n",
       "       -0.28825041,  1.59110807, -1.42061554,  0.38245814, -0.79072257,\n",
       "       -0.54189597,  0.33772388,  0.21447541, -0.40996156, -0.2613834 ,\n",
       "       -1.08494475, -1.13936924,  0.85323616, -0.84757064,  0.30262732,\n",
       "       -0.96961367, -0.91307307, -0.88504549, -0.90401163,  0.17641013,\n",
       "        0.34576371, -1.22216959,  1.50756347,  1.98750191, -0.45706163,\n",
       "       -0.58342207, -0.60424691,  1.7362609 ,  0.24633229, -1.05914573,\n",
       "       -1.07153341, -2.04289815,  0.54407341, -0.65321874, -0.43253433,\n",
       "       -0.90943443, -0.64534514, -0.72462189, -1.86194248, -0.44766941,\n",
       "        0.84827533, -0.04153779,  0.76568554, -0.39502933,  0.1546973 ,\n",
       "       -0.9144574 ,  0.46020962, -0.69183992, -0.40146893, -0.09768471,\n",
       "        0.0034232 , -0.23712755,  1.89738484,  0.29413529, -0.31029214,\n",
       "        0.13440436, -0.30686428, -0.75601195,  0.83451722,  0.80791312])"
      ]
     },
     "execution_count": 14,
     "metadata": {},
     "output_type": "execute_result"
    }
   ],
   "source": [
    "ndarry = np.random.randn(100)\n",
    "ndarry"
   ]
  },
  {
   "cell_type": "code",
   "execution_count": 15,
   "metadata": {
    "collapsed": false
   },
   "outputs": [
    {
     "data": {
      "text/plain": [
       "array([ 0.46203936,  0.57887028,  0.        ,  0.        ,  0.29522084,\n",
       "        0.        ,  0.        ,  0.        ,  0.25113715,  0.        ,\n",
       "        0.        ,  1.36497862,  0.50262308,  0.        ,  0.        ,\n",
       "        0.13114586,  1.73296558,  0.31752394,  0.50502705,  0.83079067,\n",
       "        0.        ,  0.30729387,  0.        ,  1.65830623,  0.        ,\n",
       "        2.80588447,  1.16671363,  0.58499255,  0.        ,  0.15613594,\n",
       "        1.68066984,  0.93728315,  0.        ,  0.        ,  0.        ,\n",
       "        0.81968322,  0.        ,  0.        ,  0.17173561,  0.        ,\n",
       "        0.        ,  1.59110807,  0.        ,  0.38245814,  0.        ,\n",
       "        0.        ,  0.33772388,  0.21447541,  0.        ,  0.        ,\n",
       "        0.        ,  0.        ,  0.85323616,  0.        ,  0.30262732,\n",
       "        0.        ,  0.        ,  0.        ,  0.        ,  0.17641013,\n",
       "        0.34576371,  0.        ,  1.50756347,  1.98750191,  0.        ,\n",
       "        0.        ,  0.        ,  1.7362609 ,  0.24633229,  0.        ,\n",
       "        0.        ,  0.        ,  0.54407341,  0.        ,  0.        ,\n",
       "        0.        ,  0.        ,  0.        ,  0.        ,  0.        ,\n",
       "        0.84827533,  0.        ,  0.76568554,  0.        ,  0.1546973 ,\n",
       "        0.        ,  0.46020962,  0.        ,  0.        ,  0.        ,\n",
       "        0.0034232 ,  0.        ,  1.89738484,  0.29413529,  0.        ,\n",
       "        0.13440436,  0.        ,  0.        ,  0.83451722,  0.80791312])"
      ]
     },
     "execution_count": 15,
     "metadata": {},
     "output_type": "execute_result"
    }
   ],
   "source": [
    "ndarry[ndarry < 0] = 0\n",
    "ndarry"
   ]
  },
  {
   "cell_type": "code",
   "execution_count": null,
   "metadata": {
    "collapsed": true
   },
   "outputs": [],
   "source": []
  }
 ],
 "metadata": {
  "kernelspec": {
   "display_name": "Python [conda root]",
   "language": "python",
   "name": "conda-root-py"
  },
  "language_info": {
   "codemirror_mode": {
    "name": "ipython",
    "version": 3
   },
   "file_extension": ".py",
   "mimetype": "text/x-python",
   "name": "python",
   "nbconvert_exporter": "python",
   "pygments_lexer": "ipython3",
   "version": "3.5.2"
  }
 },
 "nbformat": 4,
 "nbformat_minor": 1
}
